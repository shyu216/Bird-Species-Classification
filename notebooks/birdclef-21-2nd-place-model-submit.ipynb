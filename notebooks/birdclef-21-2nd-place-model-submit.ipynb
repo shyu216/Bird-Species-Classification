{
 "cells": [
  {
   "cell_type": "code",
   "execution_count": null,
   "id": "8a8aa208",
   "metadata": {
    "_cell_guid": "b1076dfc-b9ad-4769-8c92-a6c4dae69d19",
    "_uuid": "8f2839f25d086af736a60e9eeb907d3b93b6e0e5",
    "execution": {
     "iopub.execute_input": "2023-04-20T03:05:06.956837Z",
     "iopub.status.busy": "2023-04-20T03:05:06.951922Z",
     "iopub.status.idle": "2023-04-20T03:06:13.916639Z",
     "shell.execute_reply": "2023-04-20T03:06:13.916036Z",
     "shell.execute_reply.started": "2023-04-20T02:57:13.678679Z"
    },
    "papermill": {
     "duration": 66.995393,
     "end_time": "2023-04-20T03:06:13.916811",
     "exception": false,
     "start_time": "2023-04-20T03:05:06.921418",
     "status": "completed"
    },
    "tags": []
   },
   "outputs": [],
   "source": [
    "!pip install ../input/birds-inference-pip-wheels/torchaudio-0.8.1-cp37-cp37m-manylinux1_x86_64.whl ../input/birds-inference-pip-wheels/torch-1.8.1-cp37-cp37m-manylinux1_x86_64.whl\n",
    "!pip install ../input/birds-inference-pip-wheels/timm-0.4.8.zip --no-index --no-deps\n",
    "#!pip install ../input/birdclef21trainmeta/timm-0.4.9_23052021/pytorch-image-models-master --no-index --no-deps\n",
    "!pip install ../input/birds-inference-pip-wheels/audiomentations-0.16.0-py3-none-any.whl --no-index --no-deps\n",
    "!pip install ../input/birds-inference-pip-wheels/torchlibrosa-0.0.9-py3-none-any.whl --no-index --no-deps"
   ]
  },
  {
   "cell_type": "code",
   "execution_count": null,
   "id": "d3172817",
   "metadata": {
    "execution": {
     "iopub.execute_input": "2023-04-20T03:06:13.978108Z",
     "iopub.status.busy": "2023-04-20T03:06:13.977376Z",
     "iopub.status.idle": "2023-04-20T03:06:15.520129Z",
     "shell.execute_reply": "2023-04-20T03:06:15.519665Z",
     "shell.execute_reply.started": "2023-04-20T02:58:35.550146Z"
    },
    "papermill": {
     "duration": 1.575004,
     "end_time": "2023-04-20T03:06:15.520241",
     "exception": false,
     "start_time": "2023-04-20T03:06:13.945237",
     "status": "completed"
    },
    "tags": []
   },
   "outputs": [],
   "source": [
    "import timm\n",
    "timm.__version__"
   ]
  },
  {
   "cell_type": "code",
   "execution_count": null,
   "id": "9859ad87",
   "metadata": {
    "execution": {
     "iopub.execute_input": "2023-04-20T03:06:15.585859Z",
     "iopub.status.busy": "2023-04-20T03:06:15.585350Z",
     "iopub.status.idle": "2023-04-20T03:06:22.800300Z",
     "shell.execute_reply": "2023-04-20T03:06:22.799445Z",
     "shell.execute_reply.started": "2023-04-20T02:58:37.553727Z"
    },
    "papermill": {
     "duration": 7.251155,
     "end_time": "2023-04-20T03:06:22.800430",
     "exception": false,
     "start_time": "2023-04-20T03:06:15.549275",
     "status": "completed"
    },
    "tags": []
   },
   "outputs": [],
   "source": [
    "import sys\n",
    "import os\n",
    "import importlib\n",
    "import multiprocessing as mp\n",
    "\n",
    "from tqdm import tqdm\n",
    "import numpy as np\n",
    "import pandas as pd\n",
    "import glob\n",
    "import torch\n",
    "from copy import copy\n",
    "\n",
    "from torch.utils.data import DataLoader\n",
    "\n",
    "import pandas as pd\n",
    "import timm\n",
    "from torch import nn\n",
    "import torch\n",
    "import torchaudio as ta\n",
    "from torch.cuda.amp import autocast\n",
    "import random\n",
    "\n",
    "from torch.nn import functional as F\n",
    "from torch.distributions import Beta\n",
    "from torch.nn.parameter import Parameter\n",
    "from torch.utils.data import Dataset\n",
    "\n",
    "import numpy as np\n",
    "import librosa\n",
    "import ast\n",
    "\n",
    "import os\n",
    "from types import SimpleNamespace\n",
    "import numpy as np\n",
    "\n",
    "import numpy as np\n",
    "import pandas as pd\n",
    "import importlib\n",
    "import sys\n",
    "import random\n",
    "from tqdm import tqdm\n",
    "import gc\n",
    "import argparse\n",
    "import torch\n",
    "from torch import optim\n",
    "from torch.cuda.amp import GradScaler, autocast\n",
    "from collections import defaultdict\n",
    "import cv2\n",
    "from copy import copy\n",
    "import os\n",
    "from transformers import get_cosine_schedule_with_warmup\n",
    "from torch.utils.data import SequentialSampler, DataLoader\n",
    "from pathlib import Path"
   ]
  },
  {
   "cell_type": "code",
   "execution_count": null,
   "id": "a22ec169",
   "metadata": {
    "execution": {
     "iopub.execute_input": "2023-04-20T03:06:22.859175Z",
     "iopub.status.busy": "2023-04-20T03:06:22.858614Z",
     "iopub.status.idle": "2023-04-20T03:06:22.862811Z",
     "shell.execute_reply": "2023-04-20T03:06:22.863290Z",
     "shell.execute_reply.started": "2023-04-20T02:58:46.847944Z"
    },
    "papermill": {
     "duration": 0.034415,
     "end_time": "2023-04-20T03:06:22.863450",
     "exception": false,
     "start_time": "2023-04-20T03:06:22.829035",
     "status": "completed"
    },
    "tags": []
   },
   "outputs": [],
   "source": [
    "def set_seed(seed=1234):\n",
    "    random.seed(seed)\n",
    "    os.environ[\"PYTHONHASHSEED\"] = str(seed)\n",
    "    np.random.seed(seed)\n",
    "    torch.manual_seed(seed)\n",
    "    torch.cuda.manual_seed(seed)\n",
    "    torch.backends.cudnn.deterministic = False\n",
    "    torch.backends.cudnn.benchmark = True"
   ]
  },
  {
   "cell_type": "markdown",
   "id": "ea119828",
   "metadata": {
    "papermill": {
     "duration": 0.028004,
     "end_time": "2023-04-20T03:06:22.920063",
     "exception": false,
     "start_time": "2023-04-20T03:06:22.892059",
     "status": "completed"
    },
    "tags": []
   },
   "source": [
    "# Config"
   ]
  },
  {
   "cell_type": "code",
   "execution_count": null,
   "id": "9bb8e81a",
   "metadata": {
    "execution": {
     "iopub.execute_input": "2023-04-20T03:06:22.980097Z",
     "iopub.status.busy": "2023-04-20T03:06:22.979337Z",
     "iopub.status.idle": "2023-04-20T03:06:23.008855Z",
     "shell.execute_reply": "2023-04-20T03:06:23.009241Z",
     "shell.execute_reply.started": "2023-04-20T02:58:46.854538Z"
    },
    "papermill": {
     "duration": 0.060606,
     "end_time": "2023-04-20T03:06:23.009385",
     "exception": false,
     "start_time": "2023-04-20T03:06:22.948779",
     "status": "completed"
    },
    "tags": []
   },
   "outputs": [],
   "source": [
    "cfg = SimpleNamespace()\n",
    "\n",
    "# paths\n",
    "cfg.data_folder = ''\n",
    "cfg.name = \"julian\"\n",
    "cfg.data_dir = \"../input/birdclef-2023/\"\n",
    "cfg.train_data_folder = cfg.data_dir + \"train_audio/\"\n",
    "cfg.val_data_folder = cfg.data_dir + \"train_audio/\"\n",
    "cfg.output_dir = \"first_model\"\n",
    "\n",
    "# dataset\n",
    "cfg.dataset = \"base_ds\"\n",
    "cfg.min_rating = 0\n",
    "cfg.val_df = None\n",
    "cfg.batch_size_val = 1\n",
    "cfg.train_aug = None\n",
    "cfg.val_aug = None\n",
    "cfg.test_augs = None\n",
    "cfg.wav_len_val = 5  # seconds\n",
    "cfg.min_rating = 2.0\n",
    "cfg.wav_crop_len = 30  # seconds\n",
    "# audio\n",
    "cfg.img_height = 256\n",
    "cfg.img_weight = 512\n",
    "cfg.window_size = 2048\n",
    "cfg.sample_rate = 32000\n",
    "cfg.fmin = 16\n",
    "cfg.fmax = 16386\n",
    "cfg.power = 2\n",
    "cfg.mel_bins = cfg.img_height\n",
    "cfg.hop_size = 512 #int(cfg.sample_rate * cfg.wav_crop_len / (cfg.img_weight - 1))\n",
    "cfg.top_db = 80.0\n",
    "\n",
    "# img model\n",
    "cfg.backbone = \"resnet18\"\n",
    "cfg.pretrained = True\n",
    "cfg.pretrained_weights = None\n",
    "cfg.train = True\n",
    "cfg.val = False\n",
    "cfg.in_chans = 1\n",
    "\n",
    "cfg.alpha = 1\n",
    "cfg.eval_epochs = 1\n",
    "cfg.eval_train_epochs = 1\n",
    "cfg.warmup = 0\n",
    "\n",
    "cfg.mel_norm = False\n",
    "\n",
    "cfg.label_smoothing = 0\n",
    "\n",
    "cfg.remove_pretrained = []\n",
    "\n",
    "# training\n",
    "cfg.seed = 123\n",
    "cfg.save_val_data = True\n",
    "\n",
    "# ressources\n",
    "cfg.mixed_precision = True\n",
    "cfg.gpu = 0\n",
    "cfg.num_workers = 4 # 18\n",
    "cfg.drop_last = True \n",
    "\n",
    "cfg.mixup2 = 0\n",
    "\n",
    "cfg.label_smoothing = 0\n",
    "\n",
    "cfg.mixup_2x = False\n",
    "\n",
    "\n",
    "cfg.birds = np.array(['abethr1', 'abhori1', 'abythr1', 'afbfly1', 'afdfly1', 'afecuc1',\n",
    "       'affeag1', 'afgfly1', 'afghor1', 'afmdov1', 'afpfly1', 'afpkin1',\n",
    "       'afpwag1', 'afrgos1', 'afrgrp1', 'afrjac1', 'afrthr1', 'amesun2',\n",
    "       'augbuz1', 'bagwea1', 'barswa', 'bawhor2', 'bawman1', 'bcbeat1',\n",
    "       'beasun2', 'bkctch1', 'bkfruw1', 'blacra1', 'blacuc1', 'blakit1',\n",
    "       'blaplo1', 'blbpuf2', 'blcapa2', 'blfbus1', 'blhgon1', 'blhher1',\n",
    "       'blksaw1', 'blnmou1', 'blnwea1', 'bltapa1', 'bltbar1', 'bltori1',\n",
    "       'blwlap1', 'brcale1', 'brcsta1', 'brctch1', 'brcwea1', 'brican1',\n",
    "       'brobab1', 'broman1', 'brosun1', 'brrwhe3', 'brtcha1', 'brubru1',\n",
    "       'brwwar1', 'bswdov1', 'btweye2', 'bubwar2', 'butapa1', 'cabgre1',\n",
    "       'carcha1', 'carwoo1', 'categr', 'ccbeat1', 'chespa1', 'chewea1',\n",
    "       'chibat1', 'chtapa3', 'chucis1', 'cibwar1', 'cohmar1', 'colsun2',\n",
    "       'combul2', 'combuz1', 'comsan', 'crefra2', 'crheag1', 'crohor1',\n",
    "       'darbar1', 'darter3', 'didcuc1', 'dotbar1', 'dutdov1', 'easmog1',\n",
    "       'eaywag1', 'edcsun3', 'egygoo', 'equaka1', 'eswdov1', 'eubeat1',\n",
    "       'fatrav1', 'fatwid1', 'fislov1', 'fotdro5', 'gabgos2', 'gargan',\n",
    "       'gbesta1', 'gnbcam2', 'gnhsun1', 'gobbun1', 'gobsta5', 'gobwea1',\n",
    "       'golher1', 'grbcam1', 'grccra1', 'grecor', 'greegr', 'grewoo2',\n",
    "       'grwpyt1', 'gryapa1', 'grywrw1', 'gybfis1', 'gycwar3', 'gyhbus1',\n",
    "       'gyhkin1', 'gyhneg1', 'gyhspa1', 'gytbar1', 'hadibi1', 'hamerk1',\n",
    "       'hartur1', 'helgui', 'hipbab1', 'hoopoe', 'huncis1', 'hunsun2',\n",
    "       'joygre1', 'kerspa2', 'klacuc1', 'kvbsun1', 'laudov1', 'lawgol',\n",
    "       'lesmaw1', 'lessts1', 'libeat1', 'litegr', 'litswi1', 'litwea1',\n",
    "       'loceag1', 'lotcor1', 'lotlap1', 'luebus1', 'mabeat1', 'macshr1',\n",
    "       'malkin1', 'marsto1', 'marsun2', 'mcptit1', 'meypar1', 'moccha1',\n",
    "       'mouwag1', 'ndcsun2', 'nobfly1', 'norbro1', 'norcro1', 'norfis1',\n",
    "       'norpuf1', 'nubwoo1', 'pabspa1', 'palfly2', 'palpri1', 'piecro1',\n",
    "       'piekin1', 'pitwhy', 'purgre2', 'pygbat1', 'quailf1', 'ratcis1',\n",
    "       'raybar1', 'rbsrob1', 'rebfir2', 'rebhor1', 'reboxp1', 'reccor',\n",
    "       'reccuc1', 'reedov1', 'refbar2', 'refcro1', 'reftin1', 'refwar2',\n",
    "       'rehblu1', 'rehwea1', 'reisee2', 'rerswa1', 'rewsta1', 'rindov',\n",
    "       'rocmar2', 'rostur1', 'ruegls1', 'rufcha2', 'sacibi2', 'sccsun2',\n",
    "       'scrcha1', 'scthon1', 'shesta1', 'sichor1', 'sincis1', 'slbgre1',\n",
    "       'slcbou1', 'sltnig1', 'sobfly1', 'somgre1', 'somtit4', 'soucit1',\n",
    "       'soufis1', 'spemou2', 'spepig1', 'spewea1', 'spfbar1', 'spfwea1',\n",
    "       'spmthr1', 'spwlap1', 'squher1', 'strher', 'strsee1', 'stusta1',\n",
    "       'subbus1', 'supsta1', 'tacsun1', 'tafpri1', 'tamdov1', 'thrnig1',\n",
    "       'trobou1', 'varsun2', 'vibsta2', 'vilwea1', 'vimwea1', 'walsta1',\n",
    "       'wbgbir1', 'wbrcha2', 'wbswea1', 'wfbeat1', 'whbcan1', 'whbcou1',\n",
    "       'whbcro2', 'whbtit5', 'whbwea1', 'whbwhe3', 'whcpri2', 'whctur2',\n",
    "       'wheslf1', 'whhsaw1', 'whihel1', 'whrshr1', 'witswa1', 'wlwwar',\n",
    "       'wookin1', 'woosan', 'wtbeat1', 'yebapa1', 'yebbar1', 'yebduc1',\n",
    "       'yebere1', 'yebgre1', 'yebsto1', 'yeccan1', 'yefcan', 'yelbis1',\n",
    "       'yenspu1', 'yertin1', 'yesbar1', 'yespet1', 'yetgre1', 'yewgre1'])\n",
    "\n",
    "\n",
    "cfg.n_classes = len(cfg.birds)\n",
    "\n",
    "\n",
    "# training \n",
    "cfg.lr = 0.0001\n",
    "cfg.epochs = 20\n",
    "cfg.batch_size = 64\n",
    "cfg.batch_size_val = 64\n",
    "cfg.backbone = \"tf_efficientnet_b1_ns\"\n",
    "\n",
    "\n",
    "cfg.save_val_data = True\n",
    "cfg.mixed_precision = True\n",
    "\n",
    "cfg.mixup = True\n",
    "cfg.mix_beta = 1\n",
    "\n",
    "\n",
    "cfg.train_df1 = \"../input/birdclef-2023/train_metadata.csv\"\n",
    "cfg.train_df2 = \"../input/birdclef-22-duration/train_metadata_with_duration.csv\"\n",
    "\n",
    "\n",
    "cfg.device = 'cuda' if torch.cuda.is_available() else 'cpu'\n",
    "\n",
    "cfg.tr_collate_fn = None\n",
    "cfg.val_collate_fn = None\n",
    "cfg.val = False\n",
    "\n",
    "cfg.dev = False\n",
    "cfg.model = 'tf_efficientnet_b1_ns'\n",
    "\n",
    "cfg"
   ]
  },
  {
   "cell_type": "code",
   "execution_count": null,
   "id": "efc0c7c8",
   "metadata": {
    "execution": {
     "iopub.execute_input": "2023-04-20T03:06:23.076981Z",
     "iopub.status.busy": "2023-04-20T03:06:23.076260Z",
     "iopub.status.idle": "2023-04-20T03:06:23.080142Z",
     "shell.execute_reply": "2023-04-20T03:06:23.079605Z",
     "shell.execute_reply.started": "2023-04-20T02:58:46.893217Z"
    },
    "papermill": {
     "duration": 0.03991,
     "end_time": "2023-04-20T03:06:23.080289",
     "exception": false,
     "start_time": "2023-04-20T03:06:23.040379",
     "status": "completed"
    },
    "tags": []
   },
   "outputs": [],
   "source": [
    "# cfg = importlib.import_module('default_config')\n",
    "# importlib.reload(cfg)\n",
    "# cfg = importlib.import_module('cfg_ps_6_v2')\n",
    "# importlib.reload(cfg)\n",
    "# cfg = copy(cfg.cfg)\n",
    "\n",
    "TEST_AUDIO_ROOT = \"../input/birdclef-2023/test_soundscapes/\"\n",
    "cfg.val_data_folder = TEST_AUDIO_ROOT\n",
    "cfg.pretrained = False\n",
    "\n",
    "\n",
    "print(cfg.model, cfg.dataset, cfg.backbone, cfg.pretrained_weights, cfg.mel_norm)\n"
   ]
  },
  {
   "cell_type": "code",
   "execution_count": null,
   "id": "3e18e9c4",
   "metadata": {
    "execution": {
     "iopub.execute_input": "2023-04-20T03:06:23.149145Z",
     "iopub.status.busy": "2023-04-20T03:06:23.148610Z",
     "iopub.status.idle": "2023-04-20T03:06:23.154325Z",
     "shell.execute_reply": "2023-04-20T03:06:23.153346Z",
     "shell.execute_reply.started": "2023-04-20T02:58:46.914016Z"
    },
    "papermill": {
     "duration": 0.045091,
     "end_time": "2023-04-20T03:06:23.154560",
     "exception": false,
     "start_time": "2023-04-20T03:06:23.109469",
     "status": "completed"
    },
    "tags": []
   },
   "outputs": [],
   "source": [
    "def batch_to_device(batch, device):\n",
    "    batch_dict = {key: batch[key].to(device) for key in batch}\n",
    "    return batch_dict\n",
    "\n",
    "import librosa as lb\n",
    "import librosa.display as lbd\n",
    "import soundfile as sf\n",
    "from  soundfile import SoundFile \n",
    "\n",
    "class BirdDataset(Dataset):\n",
    "    def __init__(self, data, sr=cfg.sample_rate, duration=5, step=None, resample=True, res_type=\"kaiser_fast\"):\n",
    "\n",
    "        self.data = data\n",
    "\n",
    "        self.sr = sr\n",
    "\n",
    "        self.duration = duration\n",
    "        self.audio_length = self.duration * self.sr\n",
    "        self.step = step or self.audio_length\n",
    "        self.res_type = res_type\n",
    "        self.resample = resample\n",
    "\n",
    "    def __len__(self):\n",
    "        return len(self.data)\n",
    "\n",
    "\n",
    "    def read_file(self, filepath):\n",
    "        audio, orig_sr = sf.read(filepath, dtype=\"float32\")\n",
    "\n",
    "        if self.resample and orig_sr != self.sr:\n",
    "            audio = lb.resample(audio, orig_sr, self.sr, res_type=self.res_type)\n",
    "\n",
    "        audios = []\n",
    "        for i in range(self.audio_length, len(audio) + self.step, self.step):\n",
    "            start = max(0, i - self.audio_length)\n",
    "            end = start + self.audio_length\n",
    "            audios.append(audio[start:end])\n",
    "\n",
    "        if len(audios[-1]) < self.audio_length:\n",
    "            audios = audios[:-1]\n",
    "\n",
    "        images = [audio for audio in audios]\n",
    "        images = np.stack(images)\n",
    "\n",
    "        return images\n",
    "\n",
    "    def __getitem__(self, idx):\n",
    "        return {'input': self.read_file(self.data.loc[idx, \"path\"])}"
   ]
  },
  {
   "cell_type": "code",
   "execution_count": null,
   "id": "1817ca6f",
   "metadata": {
    "execution": {
     "iopub.execute_input": "2023-04-20T03:06:23.232422Z",
     "iopub.status.busy": "2023-04-20T03:06:23.227322Z",
     "iopub.status.idle": "2023-04-20T03:06:23.238267Z",
     "shell.execute_reply": "2023-04-20T03:06:23.238789Z",
     "shell.execute_reply.started": "2023-04-20T02:58:46.934296Z"
    },
    "papermill": {
     "duration": 0.054401,
     "end_time": "2023-04-20T03:06:23.238940",
     "exception": false,
     "start_time": "2023-04-20T03:06:23.184539",
     "status": "completed"
    },
    "tags": []
   },
   "outputs": [],
   "source": [
    "def gem(x, p=3, eps=1e-6):\n",
    "    return F.avg_pool2d(x.clamp(min=eps).pow(p), (x.size(-2), x.size(-1))).pow(1.0 / p)\n",
    "\n",
    "\n",
    "class GeM(nn.Module):\n",
    "    # Generalized mean: https://arxiv.org/abs/1711.02512\n",
    "    def __init__(self, p=3, eps=1e-6):\n",
    "        super(GeM, self).__init__()\n",
    "        self.p = Parameter(torch.ones(1) * p)\n",
    "        self.eps = eps\n",
    "\n",
    "    def forward(self, x):\n",
    "        ret = gem(x, p=self.p, eps=self.eps)\n",
    "        return ret\n",
    "\n",
    "    def __repr__(self):\n",
    "        return (self.__class__.__name__+ \"(p=\"+ \"{:.4f}\".format(self.p.data.tolist()[0])+ \", eps=\"+ str(self.eps)+ \")\")\n",
    "\n",
    "\n",
    "class Mixup(nn.Module):\n",
    "    def __init__(self, mix_beta):\n",
    "\n",
    "        super(Mixup, self).__init__()\n",
    "        self.beta_distribution = Beta(mix_beta, mix_beta)\n",
    "\n",
    "    def forward(self, X, Y, weight=None):\n",
    "\n",
    "        bs = X.shape[0]\n",
    "        n_dims = len(X.shape)\n",
    "        perm = torch.randperm(bs)\n",
    "        coeffs = self.beta_distribution.rsample(torch.Size((bs,))).to(X.device)\n",
    "\n",
    "        if n_dims == 2:\n",
    "            X = coeffs.view(-1, 1) * X + (1 - coeffs.view(-1, 1)) * X[perm]\n",
    "        elif n_dims == 3:\n",
    "            X = coeffs.view(-1, 1, 1) * X + (1 - coeffs.view(-1, 1, 1)) * X[perm]\n",
    "        else:\n",
    "            X = coeffs.view(-1, 1, 1, 1) * X + (1 - coeffs.view(-1, 1, 1, 1)) * X[perm]\n",
    "\n",
    "        Y = coeffs.view(-1, 1) * Y + (1 - coeffs.view(-1, 1)) * Y[perm]\n",
    "\n",
    "        if weight is None:\n",
    "            return X, Y\n",
    "        else:\n",
    "            weight = coeffs.view(-1) * weight + (1 - coeffs.view(-1)) * weight[perm]\n",
    "            return X, Y, weight\n",
    "\n",
    "        \n",
    "        \n",
    "class Net(nn.Module):\n",
    "    def __init__(self, cfg):\n",
    "        super(Net, self).__init__()\n",
    "\n",
    "        self.cfg = cfg\n",
    "\n",
    "        self.n_classes = cfg.n_classes\n",
    "\n",
    "        self.mel_spec = ta.transforms.MelSpectrogram(\n",
    "            sample_rate=cfg.sample_rate,\n",
    "            n_fft=cfg.window_size,\n",
    "            win_length=cfg.window_size,\n",
    "            hop_length=cfg.hop_size,\n",
    "            f_min=cfg.fmin,\n",
    "            f_max=cfg.fmax,\n",
    "            pad=0,\n",
    "            n_mels=cfg.mel_bins,\n",
    "            power=cfg.power,\n",
    "            normalized=False,\n",
    "        )\n",
    "\n",
    "        self.amplitude_to_db = ta.transforms.AmplitudeToDB(top_db=cfg.top_db)\n",
    "        self.wav2img = torch.nn.Sequential(self.mel_spec, self.amplitude_to_db)\n",
    "\n",
    "        self.backbone = timm.create_model(\n",
    "            cfg.backbone,\n",
    "            pretrained=cfg.pretrained,\n",
    "            num_classes=0,\n",
    "            global_pool=\"\",\n",
    "            in_chans=cfg.in_chans,\n",
    "        )\n",
    "\n",
    "        if \"efficientnet\" in cfg.backbone:\n",
    "            backbone_out = self.backbone.num_features\n",
    "        else:\n",
    "            backbone_out = self.backbone.feature_info[-1][\"num_chs\"]\n",
    "\n",
    "        self.global_pool = GeM()\n",
    "\n",
    "        self.head = nn.Linear(backbone_out, self.n_classes)\n",
    "\n",
    "        if cfg.pretrained_weights is not None:\n",
    "            sd = torch.load(cfg.pretrained_weights, map_location=\"cpu\")[\"model\"]\n",
    "            sd = {k.replace(\"module.\", \"\"): v for k, v in sd.items()}\n",
    "            self.load_state_dict(sd, strict=True)\n",
    "            print(\"weights loaded from\", cfg.pretrained_weights)\n",
    "        self.loss_fn = nn.BCEWithLogitsLoss(reduction=\"none\")\n",
    "\n",
    "        self.mixup = Mixup(mix_beta=cfg.mix_beta)\n",
    "\n",
    "        self.factor = int(cfg.wav_crop_len / 5.0)\n",
    "\n",
    "    def forward(self, batch):\n",
    "\n",
    "        \n",
    "        x = batch[\"input\"]\n",
    "        bs, parts, time = x.shape\n",
    "        x = x.reshape(parts, time)\n",
    "        \n",
    "        \n",
    "        with autocast(enabled=False):\n",
    "            x = self.wav2img(x)  # (bs, mel, time)\n",
    "            if self.cfg.mel_norm:\n",
    "                x = (x + 80) / 80\n",
    "\n",
    "        x = x.permute(0, 2, 1)\n",
    "        x = x[:, None, :, :]\n",
    "\n",
    "\n",
    "        x = self.backbone(x)\n",
    "        x = self.global_pool(x)\n",
    "        x = x[:, :, 0, 0]\n",
    "        logits = self.head(x)\n",
    "\n",
    "\n",
    "        return logits.sigmoid()\n"
   ]
  },
  {
   "cell_type": "code",
   "execution_count": null,
   "id": "3262b8ca",
   "metadata": {
    "execution": {
     "iopub.execute_input": "2023-04-20T03:06:23.302491Z",
     "iopub.status.busy": "2023-04-20T03:06:23.301953Z",
     "iopub.status.idle": "2023-04-20T03:06:23.303288Z",
     "shell.execute_reply": "2023-04-20T03:06:23.303785Z",
     "shell.execute_reply.started": "2023-04-20T02:58:46.961588Z"
    },
    "papermill": {
     "duration": 0.035453,
     "end_time": "2023-04-20T03:06:23.303923",
     "exception": false,
     "start_time": "2023-04-20T03:06:23.268470",
     "status": "completed"
    },
    "tags": []
   },
   "outputs": [],
   "source": [
    "def get_state_dict(sd_fp):\n",
    "    sd = torch.load(sd_fp, map_location=\"cpu\")['model']\n",
    "    sd = {k.replace(\"module.\", \"\"):v for k,v in sd.items()}\n",
    "    return sd\n",
    "\n",
    "from scipy.stats.mstats import gmean"
   ]
  },
  {
   "cell_type": "code",
   "execution_count": null,
   "id": "014bf8d9",
   "metadata": {
    "execution": {
     "iopub.execute_input": "2023-04-20T03:06:23.367083Z",
     "iopub.status.busy": "2023-04-20T03:06:23.366501Z",
     "iopub.status.idle": "2023-04-20T03:06:23.386021Z",
     "shell.execute_reply": "2023-04-20T03:06:23.386521Z",
     "shell.execute_reply.started": "2023-04-20T02:58:46.982074Z"
    },
    "papermill": {
     "duration": 0.054014,
     "end_time": "2023-04-20T03:06:23.386673",
     "exception": false,
     "start_time": "2023-04-20T03:06:23.332659",
     "status": "completed"
    },
    "tags": []
   },
   "outputs": [],
   "source": [
    "df_test = pd.DataFrame(\n",
    "     [(path.stem, *path.stem.split(\"_\"), path) for path in Path(cfg.val_data_folder).glob(\"*.ogg\")],\n",
    "    columns = [\"filename\", \"name\" ,\"id\", \"path\"]\n",
    ")\n",
    "print(df_test.shape)\n",
    "df_test.head()"
   ]
  },
  {
   "cell_type": "code",
   "execution_count": null,
   "id": "63d37996",
   "metadata": {
    "execution": {
     "iopub.execute_input": "2023-04-20T03:06:23.450136Z",
     "iopub.status.busy": "2023-04-20T03:06:23.449551Z",
     "iopub.status.idle": "2023-04-20T03:06:23.984885Z",
     "shell.execute_reply": "2023-04-20T03:06:23.985275Z",
     "shell.execute_reply.started": "2023-04-20T02:58:47.018776Z"
    },
    "papermill": {
     "duration": 0.568734,
     "end_time": "2023-04-20T03:06:23.985420",
     "exception": false,
     "start_time": "2023-04-20T03:06:23.416686",
     "status": "completed"
    },
    "tags": []
   },
   "outputs": [],
   "source": [
    "N_CORES = 4\n",
    "cfg.batch_size = 1\n",
    "\n",
    "aug = None\n",
    "test_ds =  BirdDataset(df_test, sr=cfg.sample_rate, duration=5, step=None, resample=True, res_type=\"kaiser_fast\")\n",
    "test_dl = DataLoader(test_ds, shuffle=False, batch_size = cfg.batch_size, num_workers = N_CORES)\n",
    "\n",
    "test_ds[0]"
   ]
  },
  {
   "cell_type": "code",
   "execution_count": null,
   "id": "020e3040",
   "metadata": {
    "execution": {
     "iopub.execute_input": "2023-04-20T03:06:24.049919Z",
     "iopub.status.busy": "2023-04-20T03:06:24.049377Z",
     "iopub.status.idle": "2023-04-20T03:06:24.051278Z",
     "shell.execute_reply": "2023-04-20T03:06:24.051690Z",
     "shell.execute_reply.started": "2023-04-20T02:58:47.713477Z"
    },
    "papermill": {
     "duration": 0.036085,
     "end_time": "2023-04-20T03:06:24.051830",
     "exception": false,
     "start_time": "2023-04-20T03:06:24.015745",
     "status": "completed"
    },
    "tags": []
   },
   "outputs": [],
   "source": [
    "DEVICE = \"cuda\" if torch.cuda.is_available() else 'cpu'"
   ]
  },
  {
   "cell_type": "code",
   "execution_count": null,
   "id": "fd18ada1",
   "metadata": {
    "execution": {
     "iopub.execute_input": "2023-04-20T03:06:24.114301Z",
     "iopub.status.busy": "2023-04-20T03:06:24.113828Z",
     "iopub.status.idle": "2023-04-20T03:06:25.647555Z",
     "shell.execute_reply": "2023-04-20T03:06:25.647057Z",
     "shell.execute_reply.started": "2023-04-20T03:02:22.135617Z"
    },
    "papermill": {
     "duration": 1.565869,
     "end_time": "2023-04-20T03:06:25.647687",
     "exception": false,
     "start_time": "2023-04-20T03:06:24.081818",
     "status": "completed"
    },
    "tags": []
   },
   "outputs": [],
   "source": [
    "#state_dict = \"../input/mel-gem-resnet-from-2021-2nd-place/first_model/checkpoint_last_seed123.pth\"\n",
    "#state_dict = \"../input/mel-gem-resnet/first_model/checkpoint_last_seed123.pth\"\n",
    "state_dict = \"/kaggle/input/birdclef-21-2nd-place-model-train-0-66/first_model/checkpoint_last_seed123_19.pth\"\n",
    "net = Net(cfg).eval().to(DEVICE)\n",
    "sd = get_state_dict(state_dict)\n",
    "print(\"loading dict\")\n",
    "net.load_state_dict(sd, strict=True)\n"
   ]
  },
  {
   "cell_type": "code",
   "execution_count": null,
   "id": "8db0eda9",
   "metadata": {
    "execution": {
     "iopub.execute_input": "2023-04-20T03:06:25.717173Z",
     "iopub.status.busy": "2023-04-20T03:06:25.715502Z",
     "iopub.status.idle": "2023-04-20T03:06:25.719682Z",
     "shell.execute_reply": "2023-04-20T03:06:25.720114Z",
     "shell.execute_reply.started": "2023-04-20T03:02:23.921002Z"
    },
    "papermill": {
     "duration": 0.040212,
     "end_time": "2023-04-20T03:06:25.720252",
     "exception": false,
     "start_time": "2023-04-20T03:06:25.680040",
     "status": "completed"
    },
    "tags": []
   },
   "outputs": [],
   "source": [
    "list(net.global_pool.parameters())"
   ]
  },
  {
   "cell_type": "code",
   "execution_count": null,
   "id": "75ce5068",
   "metadata": {
    "execution": {
     "iopub.execute_input": "2023-04-20T03:06:25.785673Z",
     "iopub.status.busy": "2023-04-20T03:06:25.785056Z",
     "iopub.status.idle": "2023-04-20T03:06:25.790494Z",
     "shell.execute_reply": "2023-04-20T03:06:25.789927Z",
     "shell.execute_reply.started": "2023-04-20T03:02:23.930541Z"
    },
    "papermill": {
     "duration": 0.03859,
     "end_time": "2023-04-20T03:06:25.790628",
     "exception": false,
     "start_time": "2023-04-20T03:06:25.752038",
     "status": "completed"
    },
    "tags": []
   },
   "outputs": [],
   "source": [
    "def flatten(l):\n",
    "    return [item for sublist in l for item in sublist]"
   ]
  },
  {
   "cell_type": "code",
   "execution_count": null,
   "id": "a851fccc",
   "metadata": {
    "execution": {
     "iopub.execute_input": "2023-04-20T03:06:25.858340Z",
     "iopub.status.busy": "2023-04-20T03:06:25.857754Z",
     "iopub.status.idle": "2023-04-20T03:06:46.135388Z",
     "shell.execute_reply": "2023-04-20T03:06:46.134987Z",
     "shell.execute_reply.started": "2023-04-20T03:02:23.941185Z"
    },
    "papermill": {
     "duration": 20.31376,
     "end_time": "2023-04-20T03:06:46.135510",
     "exception": false,
     "start_time": "2023-04-20T03:06:25.821750",
     "status": "completed"
    },
    "tags": []
   },
   "outputs": [],
   "source": [
    "with torch.no_grad():\n",
    "    preds = []\n",
    "    for batch in tqdm(test_dl):\n",
    "        batch = batch_to_device(batch, DEVICE)\n",
    "        with torch.cuda.amp.autocast():\n",
    "            out = net(batch)\n",
    "            preds += [out.cpu().numpy()]"
   ]
  },
  {
   "cell_type": "code",
   "execution_count": null,
   "id": "7fd43574",
   "metadata": {
    "execution": {
     "iopub.execute_input": "2023-04-20T03:06:46.204574Z",
     "iopub.status.busy": "2023-04-20T03:06:46.204082Z",
     "iopub.status.idle": "2023-04-20T03:06:46.299970Z",
     "shell.execute_reply": "2023-04-20T03:06:46.299484Z",
     "shell.execute_reply.started": "2023-04-20T03:01:07.835979Z"
    },
    "papermill": {
     "duration": 0.131271,
     "end_time": "2023-04-20T03:06:46.300099",
     "exception": false,
     "start_time": "2023-04-20T03:06:46.168828",
     "status": "completed"
    },
    "tags": []
   },
   "outputs": [],
   "source": [
    "df_train = pd.read_csv('../input/birdclef-2023/train_metadata.csv')"
   ]
  },
  {
   "cell_type": "code",
   "execution_count": null,
   "id": "3f193253",
   "metadata": {
    "execution": {
     "iopub.execute_input": "2023-04-20T03:06:46.372301Z",
     "iopub.status.busy": "2023-04-20T03:06:46.371508Z",
     "iopub.status.idle": "2023-04-20T03:06:46.409863Z",
     "shell.execute_reply": "2023-04-20T03:06:46.410298Z",
     "shell.execute_reply.started": "2023-04-20T03:01:08.506009Z"
    },
    "papermill": {
     "duration": 0.077593,
     "end_time": "2023-04-20T03:06:46.410496",
     "exception": false,
     "start_time": "2023-04-20T03:06:46.332903",
     "status": "completed"
    },
    "tags": []
   },
   "outputs": [],
   "source": [
    "filenames = df_test.filename.values.tolist()\n",
    "\n",
    "bird_cols = list(pd.get_dummies(df_train['primary_label']).columns)\n",
    "sub_df = pd.DataFrame(columns=['row_id']+bird_cols)"
   ]
  },
  {
   "cell_type": "code",
   "execution_count": null,
   "id": "7ee59fec",
   "metadata": {
    "execution": {
     "iopub.execute_input": "2023-04-20T03:06:46.488093Z",
     "iopub.status.busy": "2023-04-20T03:06:46.487488Z",
     "iopub.status.idle": "2023-04-20T03:06:46.491160Z",
     "shell.execute_reply": "2023-04-20T03:06:46.491553Z",
     "shell.execute_reply.started": "2023-04-20T02:59:53.996198Z"
    },
    "papermill": {
     "duration": 0.049245,
     "end_time": "2023-04-20T03:06:46.491862",
     "exception": false,
     "start_time": "2023-04-20T03:06:46.442617",
     "status": "completed"
    },
    "tags": []
   },
   "outputs": [],
   "source": [
    "sub_df"
   ]
  },
  {
   "cell_type": "code",
   "execution_count": null,
   "id": "61969bbf",
   "metadata": {
    "execution": {
     "iopub.execute_input": "2023-04-20T03:06:46.561547Z",
     "iopub.status.busy": "2023-04-20T03:06:46.560836Z",
     "iopub.status.idle": "2023-04-20T03:06:46.660778Z",
     "shell.execute_reply": "2023-04-20T03:06:46.661216Z",
     "shell.execute_reply.started": "2023-04-20T02:59:54.017055Z"
    },
    "papermill": {
     "duration": 0.136235,
     "end_time": "2023-04-20T03:06:46.661381",
     "exception": false,
     "start_time": "2023-04-20T03:06:46.525146",
     "status": "completed"
    },
    "tags": []
   },
   "outputs": [],
   "source": [
    "for i, file in enumerate(filenames):\n",
    "    pred = preds[i]\n",
    "    num_rows = len(pred)\n",
    "    row_ids = [f'{file}_{(i+1)*5}' for i in range(num_rows)]\n",
    "    df = pd.DataFrame(columns=['row_id']+bird_cols)\n",
    "    \n",
    "    df['row_id'] = row_ids\n",
    "    df[bird_cols] = pred\n",
    "    \n",
    "    sub_df = pd.concat([sub_df,df]).reset_index(drop=True)\n",
    "    "
   ]
  },
  {
   "cell_type": "code",
   "execution_count": null,
   "id": "078327b2",
   "metadata": {
    "execution": {
     "iopub.execute_input": "2023-04-20T03:06:46.734502Z",
     "iopub.status.busy": "2023-04-20T03:06:46.732342Z",
     "iopub.status.idle": "2023-04-20T03:06:46.764789Z",
     "shell.execute_reply": "2023-04-20T03:06:46.765245Z",
     "shell.execute_reply.started": "2023-04-20T02:59:54.142893Z"
    },
    "papermill": {
     "duration": 0.069817,
     "end_time": "2023-04-20T03:06:46.765411",
     "exception": false,
     "start_time": "2023-04-20T03:06:46.695594",
     "status": "completed"
    },
    "tags": []
   },
   "outputs": [],
   "source": [
    "sub_df"
   ]
  },
  {
   "cell_type": "code",
   "execution_count": null,
   "id": "dc90d9ef",
   "metadata": {
    "execution": {
     "iopub.execute_input": "2023-04-20T03:06:46.837450Z",
     "iopub.status.busy": "2023-04-20T03:06:46.836887Z",
     "iopub.status.idle": "2023-04-20T03:06:46.851729Z",
     "shell.execute_reply": "2023-04-20T03:06:46.852213Z",
     "shell.execute_reply.started": "2023-04-20T02:59:54.189689Z"
    },
    "papermill": {
     "duration": 0.053357,
     "end_time": "2023-04-20T03:06:46.852375",
     "exception": false,
     "start_time": "2023-04-20T03:06:46.799018",
     "status": "completed"
    },
    "tags": []
   },
   "outputs": [],
   "source": [
    "sub_df.to_csv('submission.csv',index=False)"
   ]
  },
  {
   "cell_type": "code",
   "execution_count": null,
   "id": "38a1f0bb",
   "metadata": {
    "papermill": {
     "duration": 0.033705,
     "end_time": "2023-04-20T03:06:46.920504",
     "exception": false,
     "start_time": "2023-04-20T03:06:46.886799",
     "status": "completed"
    },
    "tags": []
   },
   "outputs": [],
   "source": []
  }
 ],
 "metadata": {
  "kernelspec": {
   "display_name": "Python 3",
   "language": "python",
   "name": "python3"
  },
  "language_info": {
   "codemirror_mode": {
    "name": "ipython",
    "version": 3
   },
   "file_extension": ".py",
   "mimetype": "text/x-python",
   "name": "python",
   "nbconvert_exporter": "python",
   "pygments_lexer": "ipython3",
   "version": "3.7.12"
  },
  "papermill": {
   "default_parameters": {},
   "duration": 111.434979,
   "end_time": "2023-04-20T03:06:50.499784",
   "environment_variables": {},
   "exception": null,
   "input_path": "__notebook__.ipynb",
   "output_path": "__notebook__.ipynb",
   "parameters": {},
   "start_time": "2023-04-20T03:04:59.064805",
   "version": "2.3.3"
  }
 },
 "nbformat": 4,
 "nbformat_minor": 5
}
